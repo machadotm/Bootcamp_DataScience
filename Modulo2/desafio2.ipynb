{
 "cells": [
  {
   "cell_type": "markdown",
   "id": "4322cb91-a23d-442f-bedd-c2a14f7ecfa5",
   "metadata": {},
   "source": [
    "# Desafio Prático\n",
    "\n",
    "## Objetivos de Ensino\n",
    "\n",
    "Exercitar os seguintes conceitos trabalhados no Módulo:\n",
    "\n",
    "    ✔ Exercitar o módulo Spark SQL do Apache Spark;\n",
    "    ✔ Exercitar o módulo Spark MLLib do Apache Spark."
   ]
  },
  {
   "cell_type": "markdown",
   "id": "acb2faa0-1f8b-46c7-bac4-312f615bd896",
   "metadata": {},
   "source": [
    "# Enunciado\n",
    "\n",
    "Doenças ligadas ao coração afetam milhões de pessoas ao redor do mundo e, segundo a Organização Mundial da Saúde (OMS), são a segunda principal causa de\n",
    "morte da população mundial. Como cientista de dados, você foi contratado para criar um modelo preditivo que, a partir de dados de pacientes como idade, gênero, nível de glicose, se o paciente fuma ou não, vai prever se aquele paciente terá um derrame cerebral ou não.\n",
    "\n",
    "Você tem acesso a um arquivo que possui atributos de pacientes e um atributo “stroke” (derrame), que indica se aquele paciente sofreu um evento de derrame ou não.\n",
    "\n",
    "O conjunto de dados está disponível em:\n",
    "\n",
    "●  https://dcc.ufmg.br/~pcalais/stroke_data.csv\n",
    "\n",
    "Para uma descrição das colunas, veja a seção “Attribute information” em:\n",
    "\n",
    "●  https://www.kaggle.com/fedesoriano/stroke-prediction-dataset"
   ]
  },
  {
   "cell_type": "code",
   "execution_count": 3,
   "id": "f5b8acc7-7268-447e-8ee5-b7dbcd006513",
   "metadata": {},
   "outputs": [],
   "source": [
    "from pyspark.sql import SparkSession\n",
    "\n",
    "# Spark entry point\n",
    "spark = SparkSession \\\n",
    "    .builder \\\n",
    "    .appName(\"Desafio pratico 2 - Cientista de Dados - Apache Spark\") \\\n",
    "    .getOrCreate()"
   ]
  },
  {
   "cell_type": "code",
   "execution_count": 5,
   "id": "2426a8e7-5909-4100-be9d-8264bde5b610",
   "metadata": {},
   "outputs": [
    {
     "data": {
      "text/plain": [
       "'3.3.1'"
      ]
     },
     "execution_count": 5,
     "metadata": {},
     "output_type": "execute_result"
    }
   ],
   "source": [
    "spark.version"
   ]
  },
  {
   "cell_type": "code",
   "execution_count": 6,
   "id": "42fdffb8-bef5-4079-9345-e7e895950abd",
   "metadata": {},
   "outputs": [],
   "source": [
    "# Carregando a planilha CSV\n",
    "\n",
    "pacientes_df = spark.read.csv('stroke_data.csv',header='True',inferSchema='True')"
   ]
  },
  {
   "cell_type": "code",
   "execution_count": 7,
   "id": "59b379ad-d9c1-4e1e-b3db-7c2fd8045532",
   "metadata": {},
   "outputs": [
    {
     "name": "stdout",
     "output_type": "stream",
     "text": [
      "root\n",
      " |-- 0: integer (nullable = true)\n",
      " |-- gender: string (nullable = true)\n",
      " |-- age: double (nullable = true)\n",
      " |-- hypertension: integer (nullable = true)\n",
      " |-- heart_disease: integer (nullable = true)\n",
      " |-- ever_married: string (nullable = true)\n",
      " |-- work_type: string (nullable = true)\n",
      " |-- Residence_type: string (nullable = true)\n",
      " |-- avg_glucose_level: double (nullable = true)\n",
      " |-- bmi: double (nullable = true)\n",
      " |-- smoking_status: string (nullable = true)\n",
      " |-- stroke: integer (nullable = true)\n",
      "\n"
     ]
    }
   ],
   "source": [
    "# Detalhando os atributos do data frame\n",
    "\n",
    "pacientes_df.printSchema()"
   ]
  },
  {
   "cell_type": "code",
   "execution_count": 8,
   "id": "e91dc8d1-d8a9-43c7-b0d1-30464e3db174",
   "metadata": {},
   "outputs": [
    {
     "name": "stdout",
     "output_type": "stream",
     "text": [
      "+---+------+----+------------+-------------+------------+-------------+--------------+-----------------+-----+---------------+------+\n",
      "|  0|gender| age|hypertension|heart_disease|ever_married|    work_type|Residence_type|avg_glucose_level|  bmi| smoking_status|stroke|\n",
      "+---+------+----+------------+-------------+------------+-------------+--------------+-----------------+-----+---------------+------+\n",
      "|  1|Female|18.0|           0|            0|          No|      Private|         Urban|            94.19|12.12|         smokes|     1|\n",
      "|  2|  Male|58.0|           1|            0|         Yes|      Private|         Rural|           154.24| 33.7|   never_smoked|     0|\n",
      "|  3|Female|36.0|           0|            0|         Yes|     Govt_job|         Urban|            72.63| 24.7|         smokes|     0|\n",
      "|  4|Female|62.0|           0|            0|         Yes|Self-employed|         Rural|            85.52| 31.2|formerly smoked|     0|\n",
      "|  5|Female|82.0|           0|            0|         Yes|      Private|         Rural|            59.32| 33.2|         smokes|     1|\n",
      "|  6|Female|82.0|           0|            0|          No|     Govt_job|         Urban|            234.5| 24.0|formerly smoked|     0|\n",
      "|  7|Female|33.0|           0|            0|         Yes|Self-employed|         Urban|           193.42| 29.9|         smokes|     0|\n",
      "|  8|Female|37.0|           0|            0|         Yes|      Private|         Rural|            156.7| 36.9|         smokes|     1|\n",
      "|  9|Female|41.0|           0|            0|         Yes|     Govt_job|         Rural|            64.06| 33.8|         smokes|     1|\n",
      "| 10|Female|70.0|           0|            0|         Yes|Self-employed|         Rural|            76.34| 24.4|formerly smoked|     1|\n",
      "+---+------+----+------------+-------------+------------+-------------+--------------+-----------------+-----+---------------+------+\n",
      "only showing top 10 rows\n",
      "\n"
     ]
    }
   ],
   "source": [
    "# Visualizando os 10 primeiros dados do df\n",
    "\n",
    "pacientes_df.show(10)"
   ]
  },
  {
   "cell_type": "markdown",
   "id": "cf5b047f-9ed0-4b7e-82db-1ac7c9f9541d",
   "metadata": {},
   "source": [
    "### Quantos registros existem no arquivo?"
   ]
  },
  {
   "cell_type": "code",
   "execution_count": 9,
   "id": "340d1647-3395-43e3-8e3c-ad9c6d96d498",
   "metadata": {},
   "outputs": [
    {
     "name": "stdout",
     "output_type": "stream",
     "text": [
      "A dimensão da planilha é: (67135, 12)\n",
      "Quantidade de linhas: 67135\n",
      "Quantidade de colunas: 12\n"
     ]
    }
   ],
   "source": [
    "  # extraindo quantidade de linhas\n",
    "  linhas = pacientes_df.count()\n",
    "   \n",
    "  # extraindo quantidade de colunas\n",
    "  colunas = len(pacientes_df.columns)\n",
    " \n",
    "  # print\n",
    "  print(f'A dimensão da planilha é: {(linhas,colunas)}')\n",
    "  print(f'Quantidade de linhas: {linhas}')\n",
    "  print(f'Quantidade de colunas: {colunas}')"
   ]
  },
  {
   "cell_type": "markdown",
   "id": "2235b3af-ef9b-4771-a976-66799da9d956",
   "metadata": {},
   "source": [
    "### No conjunto de dados, quantos pacientes sofreram e não sofreram derrame (stroke)?"
   ]
  },
  {
   "cell_type": "code",
   "execution_count": 10,
   "id": "908c45f9-c9f5-4a65-bfb7-0efb6ea91331",
   "metadata": {},
   "outputs": [
    {
     "name": "stdout",
     "output_type": "stream",
     "text": [
      "Número de pacientes que sofreram derrame e não sofreram derrame, respectivamete: 40287 e 26848\n"
     ]
    }
   ],
   "source": [
    "sDerrame = pacientes_df.filter(pacientes_df[\"stroke\"] == 1).count()\n",
    "nDerrame = pacientes_df.filter(pacientes_df[\"stroke\"] == 0).count()\n",
    "\n",
    "print(\"Número de pacientes que sofreram derrame e não sofreram derrame, respectivamete:\", sDerrame, \"e\", nDerrame)"
   ]
  },
  {
   "cell_type": "markdown",
   "id": "bda03da7-2238-4835-9a35-4f5922212bcb",
   "metadata": {},
   "source": [
    "###  A partir do dataframe, crie uma tabela temporária usando df.createOrReplaceTempView('table') e a seguir use spark.sql para escrever uma consulta SQL que obtenha quantos pacientes tiveram derrame por tipo de trabalho (work_type)."
   ]
  },
  {
   "cell_type": "code",
   "execution_count": 11,
   "id": "4b535a89-65c7-4f62-9305-d59c322c0c4b",
   "metadata": {},
   "outputs": [
    {
     "name": "stdout",
     "output_type": "stream",
     "text": [
      "+-------------+------------+\n",
      "|    work_type|stroke_count|\n",
      "+-------------+------------+\n",
      "| Never_worked|          85|\n",
      "|Self-employed|       10807|\n",
      "|      Private|       23711|\n",
      "|     children|         520|\n",
      "|     Govt_job|        5164|\n",
      "+-------------+------------+\n",
      "\n"
     ]
    }
   ],
   "source": [
    "pacientes_df.createOrReplaceTempView(\"table\")\n",
    "\n",
    "consultaSQL = \"\"\"\n",
    "SELECT work_type, SUM(stroke) as stroke_count\n",
    "FROM table\n",
    "GROUP BY work_type\n",
    "\"\"\"\n",
    "\n",
    "pacientes = spark.sql(consultaSQL)\n",
    "pacientes.show()"
   ]
  },
  {
   "cell_type": "markdown",
   "id": "d6afb116-aea3-4018-8826-cedba4047b38",
   "metadata": {},
   "source": [
    "### Escreva uma consulta com spark.sql para determinar a proporção, por gênero, de participantes do estudo."
   ]
  },
  {
   "cell_type": "code",
   "execution_count": 12,
   "id": "88027909-8c01-4ca3-b017-5082f4abd448",
   "metadata": {},
   "outputs": [
    {
     "name": "stdout",
     "output_type": "stream",
     "text": [
      "+------+-----+--------------------+\n",
      "|gender|total|           proporcao|\n",
      "+------+-----+--------------------+\n",
      "|Female|39530|  0.5888135845684069|\n",
      "| Other|   11|1.638489610486333...|\n",
      "|  Male|27594|  0.4110225664705444|\n",
      "+------+-----+--------------------+\n",
      "\n"
     ]
    }
   ],
   "source": [
    "novaConsulta = \"\"\"\n",
    "SELECT gender, COUNT(*) as total, COUNT(*)/(SELECT COUNT(*) FROM table) as proporcao\n",
    "FROM table\n",
    "GROUP BY gender\n",
    "\"\"\"\n",
    "\n",
    "genero = spark.sql(novaConsulta)\n",
    "genero.show()"
   ]
  },
  {
   "cell_type": "markdown",
   "id": "6de97afe-85f9-420a-9261-958c461f57fe",
   "metadata": {},
   "source": [
    "### Escreva uma consulta com spark.sql para determinar quem tem mais probabilidade de sofrer derrame: hipertensos ou não-hipertensos."
   ]
  },
  {
   "cell_type": "code",
   "execution_count": 13,
   "id": "5bd3bf97-aaf7-4bfe-9528-fb5b113d5c63",
   "metadata": {},
   "outputs": [
    {
     "name": "stdout",
     "output_type": "stream",
     "text": [
      "+------------+------------------+------------+--------------------+\n",
      "|hypertension|hypertension_count|stroke_count|stroke_probabilidade|\n",
      "+------------+------------------+------------+--------------------+\n",
      "|           1|             11017|        8817|  0.8003086139602432|\n",
      "|           0|             56118|       31470|  0.5607826365871913|\n",
      "+------------+------------------+------------+--------------------+\n",
      "\n"
     ]
    }
   ],
   "source": [
    "consultaHipertenso = \"\"\"\n",
    "SELECT hypertension, COUNT (*) as hypertension_count, SUM(stroke) as stroke_count, SUM(stroke)/COUNT(*) as stroke_probabilidade\n",
    "FROM table\n",
    "GROUP BY hypertension\n",
    "\"\"\"\n",
    "\n",
    "hipertensos = spark.sql(consultaHipertenso)\n",
    "hipertensos.show()"
   ]
  },
  {
   "cell_type": "markdown",
   "id": "b15d8fa1-6d77-4791-88e4-2bb8cad62a8e",
   "metadata": {},
   "source": [
    "### Escreva uma consulta com spark.sql que determine o número de pessoas que sofreram derrame por idade."
   ]
  },
  {
   "cell_type": "code",
   "execution_count": 22,
   "id": "6f420e6c-8a71-47fa-bf10-7496afbe725b",
   "metadata": {},
   "outputs": [
    {
     "name": "stdout",
     "output_type": "stream",
     "text": [
      "+----+------------+\n",
      "| age|stroke_count|\n",
      "+----+------------+\n",
      "|79.0|        2916|\n",
      "|78.0|        2279|\n",
      "|80.0|        1858|\n",
      "|81.0|        1738|\n",
      "|82.0|        1427|\n",
      "|77.0|         994|\n",
      "|74.0|         987|\n",
      "|63.0|         942|\n",
      "|76.0|         892|\n",
      "|70.0|         881|\n",
      "|66.0|         848|\n",
      "|75.0|         809|\n",
      "|67.0|         801|\n",
      "|57.0|         775|\n",
      "|73.0|         759|\n",
      "|65.0|         716|\n",
      "|72.0|         709|\n",
      "|68.0|         688|\n",
      "|69.0|         677|\n",
      "|71.0|         667|\n",
      "+----+------------+\n",
      "only showing top 20 rows\n",
      "\n"
     ]
    }
   ],
   "source": [
    "ConsultaDerrame = \"\"\"\n",
    "SELECT age, SUM(stroke) as stroke_count\n",
    "FROM table\n",
    "GROUP BY age\n",
    "ORDER BY stroke_count desc\n",
    "\"\"\"\n",
    "\n",
    "DerrameIdade = spark.sql(ConsultaDerrame)\n",
    "DerrameIdade.show()\n"
   ]
  },
  {
   "cell_type": "markdown",
   "id": "89ecdd71-7448-449e-a1ab-58fe8b528e15",
   "metadata": {},
   "source": [
    "### Usando a API de dataframes, determine quantas pessoas sofreram derrames após os 50 anos."
   ]
  },
  {
   "cell_type": "code",
   "execution_count": 18,
   "id": "24f647ba-a0fe-4023-8514-f88039fa74f5",
   "metadata": {},
   "outputs": [
    {
     "name": "stdout",
     "output_type": "stream",
     "text": [
      "Número de pessoas que sofreram derrames após os 50 anos: 28938\n"
     ]
    }
   ],
   "source": [
    "print(\"Número de pessoas que sofreram derrames após os 50 anos:\", pacientes_df.filter((pacientes_df[\"stroke\"] == 1) & (pacientes_df[\"age\"] > 50)).count())"
   ]
  },
  {
   "cell_type": "markdown",
   "id": "fbc89213-c097-489d-b3f1-e3427bf10217",
   "metadata": {},
   "source": [
    "###  Usando spark.sql, determine qual o nível médio de glicose para pessoas que, respectivamente, sofreram e não sofreram derrame."
   ]
  },
  {
   "cell_type": "code",
   "execution_count": 21,
   "id": "6008a9d7-66f4-473b-a491-be8570b43a1a",
   "metadata": {},
   "outputs": [
    {
     "name": "stdout",
     "output_type": "stream",
     "text": [
      "+------+-------------+\n",
      "|stroke|media_glucose|\n",
      "+------+-------------+\n",
      "|     1|       119.95|\n",
      "|     0|        103.6|\n",
      "+------+-------------+\n",
      "\n"
     ]
    }
   ],
   "source": [
    "consultaGlicose = \"\"\"\n",
    "SELECT stroke, ROUND(AVG(avg_glucose_level),2) as media_glucose\n",
    "FROM table\n",
    "GROUP BY stroke\n",
    "\"\"\"\n",
    "\n",
    "glicose = spark.sql(consultaGlicose)\n",
    "glicose.show()"
   ]
  },
  {
   "cell_type": "markdown",
   "id": "5bdeb271-559d-4bd6-9bd4-afee2e88f1d4",
   "metadata": {},
   "source": [
    "### Qual é o BMI (IMC = índice de massa corpórea) médio de quem sofreu e não sofreu derrame?"
   ]
  },
  {
   "cell_type": "code",
   "execution_count": 24,
   "id": "c9b14237-9e90-4ca4-a0ff-2efe5c40db18",
   "metadata": {},
   "outputs": [
    {
     "name": "stdout",
     "output_type": "stream",
     "text": [
      "+------+---------+\n",
      "|stroke|media_imc|\n",
      "+------+---------+\n",
      "|     1|    29.94|\n",
      "|     0|    27.99|\n",
      "+------+---------+\n",
      "\n"
     ]
    }
   ],
   "source": [
    "consultaIMC = \"\"\"\n",
    "SELECT stroke, ROUND(AVG(bmi),2) as media_imc\n",
    "FROM table\n",
    "GROUP BY stroke\n",
    "\"\"\"\n",
    "\n",
    "imc = spark.sql(consultaIMC)\n",
    "imc.show()"
   ]
  }
 ],
 "metadata": {
  "kernelspec": {
   "display_name": "Python 3 (ipykernel)",
   "language": "python",
   "name": "python3"
  },
  "language_info": {
   "codemirror_mode": {
    "name": "ipython",
    "version": 3
   },
   "file_extension": ".py",
   "mimetype": "text/x-python",
   "name": "python",
   "nbconvert_exporter": "python",
   "pygments_lexer": "ipython3",
   "version": "3.9.13"
  }
 },
 "nbformat": 4,
 "nbformat_minor": 5
}
