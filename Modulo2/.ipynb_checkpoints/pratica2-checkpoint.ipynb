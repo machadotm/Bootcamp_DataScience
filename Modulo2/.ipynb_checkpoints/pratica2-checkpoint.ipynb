{
 "cells": [
  {
   "cell_type": "markdown",
   "id": "d48005e5-a9b5-4e9f-b65a-629526381386",
   "metadata": {},
   "source": [
    "# Trabalho Prático\n",
    "\n",
    "## Objetivos de Ensino\n",
    "\n",
    "Neste trabalho, você vai exercitar os conceitos trabalhados na primeira parte do módulo, e vai:\n",
    "\n",
    "✔ Se acostumar a escrever e executar aplicações que usam o Spark;\n",
    "\n",
    "✔ Construir aplicações Spark interativas usando o pyspark ou uma plataforma interativa como o jupyter-lab;\n",
    "\n",
    "✔ Computar estatísticas descritivas usando o Spark;\n",
    "\n",
    "✔ Manipular dados a partir da API de DataFrames.\n"
   ]
  },
  {
   "cell_type": "markdown",
   "id": "fbc28137-c051-4cef-b2ba-ec342eefa289",
   "metadata": {},
   "source": [
    "# Enunciado\n",
    "\n",
    "Dados do mercado financeiro são interessantes e ricos: cada ação negociada na bolsa de valores tem um preço que varia a cada dia. Você foi contratado como cientista de dados de uma empresa de Wall Street para criar modelos preditivos que, a partir da variação diária do preço das ações, consigam subsidiar e melhorar decisões de compra e venda de ações. Você disse que, como todo bom cientista de dados, gostaria de explorar os dados para entender suas características antes de criar qualquer modelo preditivo.\n",
    "\n",
    "Os dados estão disponíveis em https://www.kaggle.com/camnugent/sandp500/ por meio do arquivo all_stocks_5yr.csv. O arquivo contém, para cada dia e ação do S&P 500 (lista de 500 maiores empresas americanas), os seguintes dados:\n",
    "\n",
    "● Date - no formato yy-mm-dd\n",
    "\n",
    "● Open - Preço da ação na abertura do mercado no dia, em dólares.\n",
    "\n",
    "● High - Maior preço alcançado naquele dia\n",
    "\n",
    "● Low - Menor preço alcançado naquele dia\n",
    "\n",
    "● Close - Preço da ação no fechamento do mercado no dia\n",
    "\n",
    "● Volume - Número de ações vendidas / compradas\n",
    "\n",
    "● Name - O nome da ação.\n",
    "\n",
    "Apesar do volume de dados ser pequeno, você decidiu usar o Apache Spark para processar os dados para aprender a ferramenta, e tendo em vista que a sua empresa disse que, em breve, obterá dados por minuto, e não por dia, e de todas as ações do planeta, não apenas dos Estados Unidos. Neste caso, uma ferramenta desenhada para lidar com big data será necessária, e você já quer estar com o código pronto."
   ]
  },
  {
   "cell_type": "code",
   "execution_count": 1,
   "id": "42713b4f-7fbf-4925-8d7e-a972be9cb994",
   "metadata": {},
   "outputs": [],
   "source": [
    "from pyspark.sql import SparkSession\n",
    "\n",
    "# Spark entry point\n",
    "spark = SparkSession \\\n",
    "    .builder \\\n",
    "    .appName(\"Atividade pratica 2 - Cientista de Dados - Apache Spark\") \\\n",
    "    .getOrCreate()"
   ]
  },
  {
   "cell_type": "code",
   "execution_count": 2,
   "id": "60be765b-2e13-4715-9087-8c73a7c7e182",
   "metadata": {},
   "outputs": [
    {
     "data": {
      "text/plain": [
       "'3.3.1'"
      ]
     },
     "execution_count": 2,
     "metadata": {},
     "output_type": "execute_result"
    }
   ],
   "source": [
    "spark.version"
   ]
  },
  {
   "cell_type": "code",
   "execution_count": 3,
   "id": "af4145a4-16f4-4625-86f8-84344c61ec26",
   "metadata": {},
   "outputs": [],
   "source": [
    "# Carregando a planilha CSV\n",
    "\n",
    "mercado_df = spark.read.csv('all_stocks_5yr.csv',header='True',inferSchema='True')"
   ]
  },
  {
   "cell_type": "code",
   "execution_count": 4,
   "id": "b3f2d8a2-177f-41b1-92f7-fdddde533381",
   "metadata": {},
   "outputs": [
    {
     "name": "stdout",
     "output_type": "stream",
     "text": [
      "root\n",
      " |-- date: timestamp (nullable = true)\n",
      " |-- open: double (nullable = true)\n",
      " |-- high: double (nullable = true)\n",
      " |-- low: double (nullable = true)\n",
      " |-- close: double (nullable = true)\n",
      " |-- volume: integer (nullable = true)\n",
      " |-- Name: string (nullable = true)\n",
      "\n"
     ]
    }
   ],
   "source": [
    "# Detalhando os atributos do data frame\n",
    "mercado_df.printSchema()"
   ]
  },
  {
   "cell_type": "code",
   "execution_count": 18,
   "id": "6f3d0d3d-bffc-4986-b8ab-22a2c218ac21",
   "metadata": {},
   "outputs": [
    {
     "name": "stdout",
     "output_type": "stream",
     "text": [
      "+-------------------+-----+-----+-----+-----+--------+----+\n",
      "|               date| open| high|  low|close|  volume|Name|\n",
      "+-------------------+-----+-----+-----+-----+--------+----+\n",
      "|2013-02-08 00:00:00|15.07|15.12|14.63|14.75| 8407500| AAL|\n",
      "|2013-02-11 00:00:00|14.89|15.01|14.26|14.46| 8882000| AAL|\n",
      "|2013-02-12 00:00:00|14.45|14.51| 14.1|14.27| 8126000| AAL|\n",
      "|2013-02-13 00:00:00| 14.3|14.94|14.25|14.66|10259500| AAL|\n",
      "|2013-02-14 00:00:00|14.94|14.96|13.16|13.99|31879900| AAL|\n",
      "|2013-02-15 00:00:00|13.93|14.61|13.93| 14.5|15628000| AAL|\n",
      "|2013-02-19 00:00:00|14.33|14.56|14.08|14.26|11354400| AAL|\n",
      "|2013-02-20 00:00:00|14.17|14.26|13.15|13.33|14725200| AAL|\n",
      "|2013-02-21 00:00:00|13.62|13.95| 12.9|13.37|11922100| AAL|\n",
      "|2013-02-22 00:00:00|13.57| 13.6|13.21|13.57| 6071400| AAL|\n",
      "|2013-02-25 00:00:00| 13.6|13.76| 13.0|13.02| 7186400| AAL|\n",
      "|2013-02-26 00:00:00|13.14|13.42| 12.7|13.26| 9419000| AAL|\n",
      "|2013-02-27 00:00:00|13.28|13.62|13.18|13.41| 7390500| AAL|\n",
      "|2013-02-28 00:00:00|13.49|13.63|13.39|13.43| 6143600| AAL|\n",
      "|2013-03-01 00:00:00|13.37|13.95|13.32|13.61| 7376800| AAL|\n",
      "|2013-03-04 00:00:00| 13.5|14.07|13.47| 13.9| 8174800| AAL|\n",
      "|2013-03-05 00:00:00|14.01|14.05|13.71|14.05| 7676100| AAL|\n",
      "|2013-03-06 00:00:00|14.52|14.68|14.25|14.57|13243200| AAL|\n",
      "|2013-03-07 00:00:00| 14.7|14.93| 14.5|14.82| 9125300| AAL|\n",
      "|2013-03-08 00:00:00|14.99| 15.2|14.84|14.92|10593700| AAL|\n",
      "+-------------------+-----+-----+-----+-----+--------+----+\n",
      "only showing top 20 rows\n",
      "\n"
     ]
    }
   ],
   "source": [
    "# Visualizando os dados do df\n",
    "\n",
    "mercado_df.show()"
   ]
  },
  {
   "cell_type": "markdown",
   "id": "095ee76d-4bce-472e-ad90-9c3830fd0c3d",
   "metadata": {},
   "source": [
    "### 01. Quantos registros há na planilha?"
   ]
  },
  {
   "cell_type": "code",
   "execution_count": 6,
   "id": "7031ba09-0c81-40a5-9cab-98479fdcd472",
   "metadata": {},
   "outputs": [
    {
     "name": "stdout",
     "output_type": "stream",
     "text": [
      "A dimensão da planilha é: (619040, 7)\n",
      "Quantidade de linhas: 619040\n",
      "Quantidade de colunas: 7\n"
     ]
    }
   ],
   "source": [
    "  # extraindo quantidade de linhas\n",
    "  row = mercado_df.count()\n",
    "   \n",
    "  # extraindo quantidade de colunas\n",
    "  col = len(mercado_df.columns)\n",
    " \n",
    "  # print\n",
    "  print(f'A dimensão da planilha é: {(row,col)}')\n",
    "  print(f'Quantidade de linhas: {row}')\n",
    "  print(f'Quantidade de colunas: {col}')"
   ]
  },
  {
   "cell_type": "markdown",
   "id": "26c5e94a-f25a-4fe6-87ad-0889bdaa54d0",
   "metadata": {},
   "source": [
    "### 02. Quantos registros há na planilha para a ação da Apple (AAPL)?"
   ]
  },
  {
   "cell_type": "code",
   "execution_count": 7,
   "id": "6359cce8-8338-4c49-8ed8-89ce1436938e",
   "metadata": {},
   "outputs": [
    {
     "name": "stdout",
     "output_type": "stream",
     "text": [
      "Quantidade de registros para a ação da Apple (AAPL): 1259\n"
     ]
    }
   ],
   "source": [
    "totalAAPL = mercado_df.filter(mercado_df[\"Name\"] == \"AAPL\").count()\n",
    "\n",
    "print(f'Quantidade de registros para a ação da Apple (AAPL): {totalAAPL}')\n"
   ]
  },
  {
   "cell_type": "markdown",
   "id": "00d43987-2a96-4a4b-945a-a404006bb988",
   "metadata": {},
   "source": [
    "### 03. Quantas empresas distintas têm registros nessa planilha?"
   ]
  },
  {
   "cell_type": "code",
   "execution_count": 8,
   "id": "532ab9f8-57ef-42ef-9cf4-37b26f2f8f54",
   "metadata": {},
   "outputs": [
    {
     "name": "stdout",
     "output_type": "stream",
     "text": [
      "A quantidade de empresas distintas presentes na planilha é: 505\n"
     ]
    }
   ],
   "source": [
    "totalEmp = mercado_df.select(\"Name\").distinct().count()\n",
    "\n",
    "print(f'A quantidade de empresas distintas presentes na planilha é: {totalEmp}')"
   ]
  },
  {
   "cell_type": "markdown",
   "id": "bd521498-fcee-4457-b7f2-84ae8155fa8d",
   "metadata": {},
   "source": [
    "### 04.  Com qual frequência o preço de uma ação no fechamento é maior do que o preço na abertura?"
   ]
  },
  {
   "cell_type": "code",
   "execution_count": 30,
   "id": "2894b3f8-14d8-49b4-bca4-0f0143a64418",
   "metadata": {},
   "outputs": [
    {
     "name": "stdout",
     "output_type": "stream",
     "text": [
      "Frequência do preço de uma ação ser maior que na abertura: 51.53%\n"
     ]
    }
   ],
   "source": [
    "freqAcao = mercado_df.filter(mercado_df[\"close\"] > mercado_df[\"open\"])\n",
    "\n",
    "freqAcao = (freqAcao.count() /mercado_df.count()) * 100\n",
    "\n",
    "print(f'Frequência do preço de uma ação ser maior que na abertura: {round((freqAcao),2)}%')"
   ]
  },
  {
   "cell_type": "markdown",
   "id": "d2ff25da-6b76-4b91-becb-2cdf08554a61",
   "metadata": {},
   "source": [
    "### 5. Qual o maior valor das ações da Apple (AAPL) na história?"
   ]
  },
  {
   "cell_type": "code",
   "execution_count": 11,
   "id": "ccb627d4-3657-46c2-bcd6-70a7ceddbbea",
   "metadata": {},
   "outputs": [
    {
     "name": "stdout",
     "output_type": "stream",
     "text": [
      "O maior valor das ações da Apple é: 180.1\n"
     ]
    }
   ],
   "source": [
    "from pyspark.sql.functions import max\n",
    "\n",
    "Apple = mercado_df.filter(mercado_df[\"Name\"] == \"AAPL\").agg(max(\"high\")).first()[0]\n",
    "\n",
    "print(f'O maior valor das ações da Apple é: {Apple}')"
   ]
  },
  {
   "cell_type": "markdown",
   "id": "3100e967-a6df-4154-b42f-1ae3f5a853d3",
   "metadata": {},
   "source": [
    "### 6. Qual ação tem a maior volatilidade? Uma forma é medir o desvio-padrão do preço de fechamento de cada ação e considerar a ação de maior desvio-padrão."
   ]
  },
  {
   "cell_type": "code",
   "execution_count": 12,
   "id": "ad8d81cc-e7de-47f8-b61a-65fdb395769c",
   "metadata": {},
   "outputs": [
    {
     "name": "stdout",
     "output_type": "stream",
     "text": [
      "Ação com maior volatilidade é: PCLN\n"
     ]
    }
   ],
   "source": [
    "from pyspark.sql.functions import stddev\n",
    "\n",
    "AcaoVol = mercado_df.groupBy(\"Name\").agg(stddev(\"close\").alias(\"std\"))\n",
    "AcaoVol = AcaoVol.select(\"Name\", \"std\").orderBy(\"std\", ascending=False)\n",
    "\n",
    "print(f'Ação com maior volatilidade é: {AcaoVol.first()[\"Name\"]}')"
   ]
  },
  {
   "cell_type": "markdown",
   "id": "6147abb7-8a72-4ecb-99fa-d2d20812dace",
   "metadata": {},
   "source": [
    "### 07. Qual o dia com maior volume total de negociação da bolsa?"
   ]
  },
  {
   "cell_type": "code",
   "execution_count": 13,
   "id": "a77fa584-33c6-458e-81e9-3983b31858ac",
   "metadata": {},
   "outputs": [
    {
     "name": "stdout",
     "output_type": "stream",
     "text": [
      "O dia com maior volume total de negociação na bolsa é: 2015-08-24 00:00:00\n"
     ]
    }
   ],
   "source": [
    "from pyspark.sql.functions import sum\n",
    "\n",
    "dia = mercado_df.groupBy(\"date\").agg(sum(\"volume\").alias(\"Maior volume total\"))\n",
    "dia = dia.select(\"date\", \"Maior volume total\").orderBy(\"Maior volume total\", ascending=False)\n",
    "\n",
    "print(f'O dia com maior volume total de negociação na bolsa é: {dia.first()[\"date\"]}')\n"
   ]
  },
  {
   "cell_type": "markdown",
   "id": "1e2fddb7-14e9-4121-864f-b4930527b220",
   "metadata": {},
   "source": [
    "### 08. Qual a ação mais negociada da bolsa, em volume de transações?"
   ]
  },
  {
   "cell_type": "code",
   "execution_count": 14,
   "id": "7bcce205-4eaa-4ce7-9ea5-dcc3173bbe5a",
   "metadata": {},
   "outputs": [
    {
     "name": "stdout",
     "output_type": "stream",
     "text": [
      "A ação mais negociada na bolsa é: BAC\n"
     ]
    }
   ],
   "source": [
    "negociado = mercado_df.groupBy(\"Name\").agg(sum(\"volume\").alias(\"Ação mais negociada\"))\n",
    "negociado = negociado.select(\"Name\",\"Ação mais negociada\").orderBy(\"Ação mais negociada\", ascending=False)\n",
    "\n",
    "print(f'A ação mais negociada na bolsa é: {negociado.first()[\"Name\"]}')\n"
   ]
  },
  {
   "cell_type": "markdown",
   "id": "cdd2ae9a-7cb0-4cb0-8cbd-20d61d940e11",
   "metadata": {},
   "source": [
    "### 09. Quantas ações começam com a letra “A”?"
   ]
  },
  {
   "cell_type": "code",
   "execution_count": 26,
   "id": "cca0bfda-c363-49aa-aced-369a13c6be1d",
   "metadata": {},
   "outputs": [
    {
     "name": "stdout",
     "output_type": "stream",
     "text": [
      "Quantidade de ações que começam com a letra A é: 59\n"
     ]
    }
   ],
   "source": [
    "\n",
    "letraA = mercado_df.select(\"Name\").distinct()\n",
    "letraA = letraA.filter(\"Name like 'A%'\")\n",
    "\n",
    "print(f'Quantidade de ações que começam com a letra A é: {letraA.count()}')\n"
   ]
  },
  {
   "cell_type": "markdown",
   "id": "cf9bc575-9e09-4293-8547-5742a4bfd7ee",
   "metadata": {},
   "source": [
    "### 10. Com qual frequência o preço mais alto do dia da ação também é o preço de fechamento?"
   ]
  },
  {
   "cell_type": "code",
   "execution_count": 29,
   "id": "2b10113b-5bc8-41b5-94db-1b2663c37d41",
   "metadata": {},
   "outputs": [
    {
     "name": "stdout",
     "output_type": "stream",
     "text": [
      "A frequência do preço mais alto do dia ser também o preço de fechamento é: 1.2%\n"
     ]
    }
   ],
   "source": [
    "freqPreco = mercado_df.filter(mercado_df[\"high\"] == mercado_df[\"close\"])\n",
    "freqPreco = (freqPreco.count() / mercado_df.count()) * 100\n",
    "\n",
    "print(f'A frequência do preço mais alto do dia ser também o preço de fechamento é: {round((freqPreco),2)}%')"
   ]
  },
  {
   "cell_type": "markdown",
   "id": "710e67e2-2671-4824-8dc4-b3feeae91d94",
   "metadata": {},
   "source": [
    "### 11. Em qual dia a ação da Apple mais subiu entre a abertura e o fechamento, de forma absoluta?"
   ]
  },
  {
   "cell_type": "code",
   "execution_count": 33,
   "id": "ef81d0b4-ae86-46ff-9e7a-f00ab5013a76",
   "metadata": {},
   "outputs": [
    {
     "name": "stdout",
     "output_type": "stream",
     "text": [
      "Dia em que a ação da Apple mais subiu entre a abertura e o fechamento: 2015-08-24 00:00:00\n"
     ]
    }
   ],
   "source": [
    "from pyspark.sql.functions import abs\n",
    "\n",
    "apple = mercado_df.filter(mercado_df[\"Name\"] == \"AAPL\")\n",
    "apple = apple.withColumn(\"Valor absoluto\", abs(apple[\"close\"] - apple[\"open\"]))\n",
    "apple = apple.select(\"date\", \"Valor absoluto\").orderBy(\"Valor absoluto\", ascending=False)\n",
    "\n",
    "print(f'Dia em que a ação da Apple mais subiu entre a abertura e o fechamento: {apple.first()[\"date\"]}')\n"
   ]
  },
  {
   "cell_type": "markdown",
   "id": "c305f18b-4c99-4708-a14b-315a2b582530",
   "metadata": {},
   "source": [
    "### 12. Em média, qual o volume diário de transações das ações da AAPL?"
   ]
  },
  {
   "cell_type": "code",
   "execution_count": 36,
   "id": "dfd96ce7-2195-4c1a-89bf-f34f80d4676f",
   "metadata": {},
   "outputs": [
    {
     "name": "stdout",
     "output_type": "stream",
     "text": [
      "A média do volume diário de transações das ações da AAPL é: 54047899.73550437\n"
     ]
    }
   ],
   "source": [
    "from pyspark.sql.functions import avg\n",
    "\n",
    "mediaApple = mercado_df.filter(mercado_df[\"Name\"] == \"AAPL\")\n",
    "mediaApple = mediaApple.agg(avg(\"volume\")).first()[0]\n",
    "\n",
    "print(f'A média do volume diário de transações das ações da AAPL é: {mediaApple}') "
   ]
  },
  {
   "cell_type": "markdown",
   "id": "affc1a25-7aea-4030-bf6c-deb1ecd0fc75",
   "metadata": {},
   "source": [
    "### 13. Quantas ações tem 1, 2, 3, 4 e 5 caracteres em seu nome, respectivamente?"
   ]
  },
  {
   "cell_type": "code",
   "execution_count": 39,
   "id": "80c3814a-a471-4e29-b4b0-e8d3b6cded18",
   "metadata": {},
   "outputs": [
    {
     "name": "stdout",
     "output_type": "stream",
     "text": [
      "Quantidade de ações que possuem 1, 2, 3, 4 e 5 caracteres em seu nome, respectivamente, são: 10, 50, 323, 117, 5\n"
     ]
    }
   ],
   "source": [
    "from pyspark.sql.functions import length\n",
    "from pyspark.sql.functions import col\n",
    "\n",
    "nomeDistintos = mercado_df.select(\"Name\").distinct()\n",
    "\n",
    "nome = nomeDistintos.withColumn(\"Tamanho\", length(col(\"Name\")))\n",
    "nome1 = nome.filter(nome[\"Tamanho\"] == 1).count()\n",
    "nome2 = nome.filter(nome[\"Tamanho\"] == 2).count()\n",
    "nome3 = nome.filter(nome[\"Tamanho\"] == 3).count()\n",
    "nome4 = nome.filter(nome[\"Tamanho\"] == 4).count()\n",
    "nome5 = nome.filter(nome[\"Tamanho\"] == 5).count()\n",
    "\n",
    "print(f'Quantidade de ações que possuem 1, 2, 3, 4 e 5 caracteres em seu nome, respectivamente, são: {nome1}, {nome2}, {nome3}, {nome4}, {nome5}')"
   ]
  },
  {
   "cell_type": "markdown",
   "id": "00d2e5fc-4bfd-4514-8c65-bb04988441f8",
   "metadata": {},
   "source": [
    "### 14. Qual a ação menos negociada da bolsa, em volume de transações?"
   ]
  },
  {
   "cell_type": "code",
   "execution_count": 40,
   "id": "98726cbc-818b-4a4a-8253-812067be39f2",
   "metadata": {},
   "outputs": [
    {
     "name": "stdout",
     "output_type": "stream",
     "text": [
      "A ação menos negociada da bolsa é: APTV\n"
     ]
    }
   ],
   "source": [
    "volumeMenor = mercado_df.groupBy(\"Name\").agg(sum(\"volume\").alias(\"Total Volume\"))\n",
    "volumeMenor = volumeMenor.select(\"Name\", \"Total Volume\").orderBy(\"Total Volume\", ascending=True)\n",
    "\n",
    "print(f'A ação menos negociada da bolsa é: {volumeMenor.first()[\"Name\"]}')"
   ]
  },
  {
   "cell_type": "code",
   "execution_count": null,
   "id": "052ce519-4c05-4759-ae98-e50c5c4c8bdc",
   "metadata": {},
   "outputs": [],
   "source": []
  }
 ],
 "metadata": {
  "kernelspec": {
   "display_name": "Python 3 (ipykernel)",
   "language": "python",
   "name": "python3"
  },
  "language_info": {
   "codemirror_mode": {
    "name": "ipython",
    "version": 3
   },
   "file_extension": ".py",
   "mimetype": "text/x-python",
   "name": "python",
   "nbconvert_exporter": "python",
   "pygments_lexer": "ipython3",
   "version": "3.9.13"
  }
 },
 "nbformat": 4,
 "nbformat_minor": 5
}
