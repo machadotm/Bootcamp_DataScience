{
 "cells": [
  {
   "cell_type": "markdown",
   "metadata": {
    "id": "sstrsx5NheQQ",
    "outputId": "197fadae-44d6-48fd-e61c-9524a47d644f"
   },
   "source": [
    "# Desafio final do Bootcamp de Cientista de Dados do IGTI"
   ]
  },
  {
   "cell_type": "markdown",
   "metadata": {
    "tags": []
   },
   "source": [
    "## Objetivos de Ensino\n",
    "\n",
    "Exercitar os seguintes conceitos trabalhados no Módulo:    \n",
    "\n",
    "    ✔ Pré-processamento dos dados\n",
    "    ✔ Detecção de anomalias\n",
    "    ✔ Processamento dos dados\n",
    "    ✔ Correlações\n",
    "    ✔ Spark MlLib\n",
    "    ✔ Interpretação dos dados"
   ]
  },
  {
   "cell_type": "markdown",
   "metadata": {},
   "source": [
    "## Enunciado\n",
    "\n",
    "O derrame é uma das doenças que mais acometem a população mundial. Segundo a World Health Organization (WHO), o Acidente Vascular Cerebral (AVC) foi a segunda maior causa de morte na população mundial no ano de 2016 (https://www.who.int/news-room/fact-sheets/detail/the-top-10-causes-of-death).\n",
    "\n",
    "Neste desafio, vamos realizar uma análise sobre um banco de dados composto por uma pesquisa realizada com diferentes pacientes. Nesta\n",
    "análise, vamos tentar prever, nos baseando em algumas características específicas, se um determinado indivíduo irá ou não sofrer um AVC. Para isso, vamos aplicar o pré-processamento dos dados e a aplicar o modelo de Regressão Logística e o SVM, para indicar se um indivíduo possui ou não maior probabilidade de desenvolver o AVC."
   ]
  },
  {
   "cell_type": "markdown",
   "metadata": {
    "id": "I4aVbuRbheQd"
   },
   "source": [
    "## 1) Iniciar a seção SPARK"
   ]
  },
  {
   "cell_type": "code",
   "execution_count": 1,
   "metadata": {
    "id": "O3-gI9xjheQh",
    "outputId": "59b54012-db79-43f2-cff3-9778bd738cd6"
   },
   "outputs": [],
   "source": [
    "from pyspark.sql import SparkSession #importa a biblioteca que cria a seção do spark"
   ]
  },
  {
   "cell_type": "code",
   "execution_count": 2,
   "metadata": {
    "id": "bKZvrw0dheQk",
    "outputId": "d148dfb9-aa85-4bb8-8fa3-ce85f2e69972"
   },
   "outputs": [],
   "source": [
    "#inicia a seção para a utilização do spark\n",
    "spark = SparkSession.builder.appName(\"Desafio_IGTI\").getOrCreate() #cria a seção caso não exista ou obtém a já criada"
   ]
  },
  {
   "cell_type": "code",
   "execution_count": 3,
   "metadata": {
    "id": "aQD9A39rheQs",
    "outputId": "7c4caf2a-9567-4883-f743-a625203453b0"
   },
   "outputs": [],
   "source": [
    "diretorio_dataset=\"healthcare-dataset-stroke-data.csv\"  #diretório que contém o arquivo a ser utilizado"
   ]
  },
  {
   "cell_type": "code",
   "execution_count": 4,
   "metadata": {
    "id": "52Q1Vj7nheQ4",
    "outputId": "152175c1-3cc7-463f-a775-29a773114309"
   },
   "outputs": [],
   "source": [
    "dataset_desafio = spark.read.format(\"csv\").options(header=\"true\", inferschema=\"true\").load(diretorio_dataset)  #realiza a leitura do dataset"
   ]
  },
  {
   "cell_type": "code",
   "execution_count": 5,
   "metadata": {
    "id": "bEt_50MJheQ-",
    "outputId": "62c8adc6-9f69-4098-b38e-7ac9aa8f6e6d"
   },
   "outputs": [
    {
     "name": "stdout",
     "output_type": "stream",
     "text": [
      "root\n",
      " |-- id: integer (nullable = true)\n",
      " |-- gender: string (nullable = true)\n",
      " |-- age: double (nullable = true)\n",
      " |-- hypertension: integer (nullable = true)\n",
      " |-- heart_disease: integer (nullable = true)\n",
      " |-- ever_married: string (nullable = true)\n",
      " |-- work_type: string (nullable = true)\n",
      " |-- Residence_type: string (nullable = true)\n",
      " |-- avg_glucose_level: double (nullable = true)\n",
      " |-- bmi: string (nullable = true)\n",
      " |-- smoking_status: string (nullable = true)\n",
      " |-- stroke: integer (nullable = true)\n",
      "\n"
     ]
    }
   ],
   "source": [
    "dataset_desafio.printSchema() #mostra o esquema inferido pelas variáveis"
   ]
  },
  {
   "cell_type": "markdown",
   "metadata": {
    "id": "-iltwssHheRB"
   },
   "source": [
    "### Respectivamente, quantas variáveis do tipo string e inteira existem no dataset?"
   ]
  },
  {
   "cell_type": "code",
   "execution_count": 6,
   "metadata": {
    "id": "nyuTBV9MheRC",
    "outputId": "b2cf4b66-d182-48ca-8ae2-7e4c9bf09fed"
   },
   "outputs": [
    {
     "data": {
      "text/plain": [
       "5110"
      ]
     },
     "execution_count": 6,
     "metadata": {},
     "output_type": "execute_result"
    }
   ],
   "source": [
    "#número de instancias no dataset\n",
    "dataset_desafio.count()"
   ]
  },
  {
   "cell_type": "markdown",
   "metadata": {
    "id": "E0gNXsYiheRE"
   },
   "source": [
    "### Quantas instâncias e atributos, respectivamente, existem no dataset?"
   ]
  },
  {
   "cell_type": "code",
   "execution_count": 7,
   "metadata": {
    "id": "OhQlBp1fheRF",
    "outputId": "952c2c03-d61d-4031-cd0f-4aae3db1b7e5"
   },
   "outputs": [
    {
     "name": "stdout",
     "output_type": "stream",
     "text": [
      "+-----+------+----+------------+-------------+------------+-------------+--------------+-----------------+----+---------------+------+\n",
      "|   id|gender| age|hypertension|heart_disease|ever_married|    work_type|Residence_type|avg_glucose_level| bmi| smoking_status|stroke|\n",
      "+-----+------+----+------------+-------------+------------+-------------+--------------+-----------------+----+---------------+------+\n",
      "| 9046|  Male|67.0|           0|            1|         Yes|      Private|         Urban|           228.69|36.6|formerly smoked|     1|\n",
      "|51676|Female|61.0|           0|            0|         Yes|Self-employed|         Rural|           202.21| N/A|   never smoked|     1|\n",
      "|31112|  Male|80.0|           0|            1|         Yes|      Private|         Rural|           105.92|32.5|   never smoked|     1|\n",
      "|60182|Female|49.0|           0|            0|         Yes|      Private|         Urban|           171.23|34.4|         smokes|     1|\n",
      "| 1665|Female|79.0|           1|            0|         Yes|Self-employed|         Rural|           174.12|  24|   never smoked|     1|\n",
      "|56669|  Male|81.0|           0|            0|         Yes|      Private|         Urban|           186.21|  29|formerly smoked|     1|\n",
      "|53882|  Male|74.0|           1|            1|         Yes|      Private|         Rural|            70.09|27.4|   never smoked|     1|\n",
      "|10434|Female|69.0|           0|            0|          No|      Private|         Urban|            94.39|22.8|   never smoked|     1|\n",
      "|27419|Female|59.0|           0|            0|         Yes|      Private|         Rural|            76.15| N/A|        Unknown|     1|\n",
      "|60491|Female|78.0|           0|            0|         Yes|      Private|         Urban|            58.57|24.2|        Unknown|     1|\n",
      "|12109|Female|81.0|           1|            0|         Yes|      Private|         Rural|            80.43|29.7|   never smoked|     1|\n",
      "|12095|Female|61.0|           0|            1|         Yes|     Govt_job|         Rural|           120.46|36.8|         smokes|     1|\n",
      "|12175|Female|54.0|           0|            0|         Yes|      Private|         Urban|           104.51|27.3|         smokes|     1|\n",
      "| 8213|  Male|78.0|           0|            1|         Yes|      Private|         Urban|           219.84| N/A|        Unknown|     1|\n",
      "| 5317|Female|79.0|           0|            1|         Yes|      Private|         Urban|           214.09|28.2|   never smoked|     1|\n",
      "|58202|Female|50.0|           1|            0|         Yes|Self-employed|         Rural|           167.41|30.9|   never smoked|     1|\n",
      "|56112|  Male|64.0|           0|            1|         Yes|      Private|         Urban|           191.61|37.5|         smokes|     1|\n",
      "|34120|  Male|75.0|           1|            0|         Yes|      Private|         Urban|           221.29|25.8|         smokes|     1|\n",
      "|27458|Female|60.0|           0|            0|          No|      Private|         Urban|            89.22|37.8|   never smoked|     1|\n",
      "|25226|  Male|57.0|           0|            1|          No|     Govt_job|         Urban|           217.08| N/A|        Unknown|     1|\n",
      "+-----+------+----+------------+-------------+------------+-------------+--------------+-----------------+----+---------------+------+\n",
      "only showing top 20 rows\n",
      "\n"
     ]
    }
   ],
   "source": [
    "dataset_desafio.show() #mostra as linhas iniciais do dataset"
   ]
  },
  {
   "cell_type": "markdown",
   "metadata": {
    "id": "ld9ydiyWheRJ"
   },
   "source": [
    "### 2) Conhecendo o dataset"
   ]
  },
  {
   "cell_type": "code",
   "execution_count": 8,
   "metadata": {
    "id": "Lqq5ez97heRK",
    "outputId": "a2e8f472-b683-476a-a92b-44e5894b13bc"
   },
   "outputs": [
    {
     "name": "stdout",
     "output_type": "stream",
     "text": [
      "+----+------------+\n",
      "| age|hypertension|\n",
      "+----+------------+\n",
      "|67.0|           0|\n",
      "|61.0|           0|\n",
      "|80.0|           0|\n",
      "|49.0|           0|\n",
      "|79.0|           1|\n",
      "+----+------------+\n",
      "only showing top 5 rows\n",
      "\n"
     ]
    }
   ],
   "source": [
    "#seleção de colunas\n",
    "dataset_desafio.select('age','hypertension').show(5)"
   ]
  },
  {
   "cell_type": "code",
   "execution_count": 15,
   "metadata": {
    "id": "k7J0HG08heRM",
    "outputId": "ae45fc18-03c2-4c92-e734-9e14e99545e7"
   },
   "outputs": [
    {
     "name": "stdout",
     "output_type": "stream",
     "text": [
      "+------+------+-----+\n",
      "|gender|stroke|count|\n",
      "+------+------+-----+\n",
      "| Other|     0|    1|\n",
      "|  Male|     1|  108|\n",
      "|Female|     1|  141|\n",
      "|  Male|     0| 2007|\n",
      "|Female|     0| 2853|\n",
      "+------+------+-----+\n",
      "\n"
     ]
    }
   ],
   "source": [
    "#agrupando os dados\n",
    "dataset_desafio.groupby(['gender','stroke']).count().sort(\"count\",ascending=True).show()"
   ]
  },
  {
   "cell_type": "markdown",
   "metadata": {
    "id": "emKWFH5JheRN"
   },
   "source": [
    "### Analisando a tabela anterior, o que podemos dizer sobre o derrame entre homens e mulheres?"
   ]
  },
  {
   "cell_type": "code",
   "execution_count": 17,
   "metadata": {
    "id": "caGSUGLQheRT",
    "outputId": "ddbd7733-7d47-41e7-8865-859cb01dace9"
   },
   "outputs": [
    {
     "name": "stdout",
     "output_type": "stream",
     "text": [
      "+---------------+------+-----+\n",
      "| smoking_status|stroke|count|\n",
      "+---------------+------+-----+\n",
      "|         smokes|     1|   42|\n",
      "|        Unknown|     1|   47|\n",
      "|formerly smoked|     1|   70|\n",
      "|   never smoked|     1|   90|\n",
      "|         smokes|     0|  747|\n",
      "|formerly smoked|     0|  815|\n",
      "|        Unknown|     0| 1497|\n",
      "|   never smoked|     0| 1802|\n",
      "+---------------+------+-----+\n",
      "\n"
     ]
    }
   ],
   "source": [
    "#agrupando os dados\n",
    "dataset_desafio.groupby('smoking_status','stroke').count().sort(\"count\",ascending=True).show()"
   ]
  },
  {
   "cell_type": "code",
   "execution_count": 18,
   "metadata": {
    "id": "ZzgTT5zmheRV",
    "outputId": "2f09d63a-4d91-4f85-ff21-7bdd8ee7fba3"
   },
   "outputs": [
    {
     "name": "stdout",
     "output_type": "stream",
     "text": [
      "+------------+------+-----+\n",
      "|hypertension|stroke|count|\n",
      "+------------+------+-----+\n",
      "|           1|     1|   66|\n",
      "|           0|     1|  183|\n",
      "|           1|     0|  432|\n",
      "|           0|     0| 4429|\n",
      "+------------+------+-----+\n",
      "\n"
     ]
    }
   ],
   "source": [
    "#agrupando os dados\n",
    "dataset_desafio.groupby('hypertension','stroke').count().sort(\"count\",ascending=True).show()"
   ]
  },
  {
   "cell_type": "markdown",
   "metadata": {
    "id": "VvWbXT6mheRW"
   },
   "source": [
    "### O que podemos dizer sobre o gráfico anterior?"
   ]
  },
  {
   "cell_type": "code",
   "execution_count": 19,
   "metadata": {
    "id": "HZFVJQ4mheRX",
    "outputId": "a8691d6e-0b9f-4b6a-a3d1-1744746b1a26"
   },
   "outputs": [
    {
     "name": "stdout",
     "output_type": "stream",
     "text": [
      "+------+-----+\n",
      "|stroke|count|\n",
      "+------+-----+\n",
      "|     1|  249|\n",
      "|     0| 4861|\n",
      "+------+-----+\n",
      "\n"
     ]
    }
   ],
   "source": [
    "dataset_desafio.groupby('stroke').count().show()"
   ]
  },
  {
   "cell_type": "markdown",
   "metadata": {
    "id": "hKRI-nsmheRY"
   },
   "source": [
    "### O dataset está balanceado?"
   ]
  },
  {
   "cell_type": "code",
   "execution_count": 20,
   "metadata": {
    "id": "rrZos0LzheRZ",
    "outputId": "7b79c4ff-ccb6-42de-adbb-7fc6c7b3e6fb"
   },
   "outputs": [
    {
     "data": {
      "text/plain": [
       "2994"
      ]
     },
     "execution_count": 20,
     "metadata": {},
     "output_type": "execute_result"
    }
   ],
   "source": [
    "#utilizando crosstab para contar a quantidade de indivíduos com que ganho mais de 50K pela idade\n",
    "dataset_desafio.filter(dataset_desafio.gender== 'Female').count()"
   ]
  },
  {
   "cell_type": "code",
   "execution_count": 22,
   "metadata": {
    "id": "OS1Ycc14heRe",
    "outputId": "78b6dd38-c8bc-4631-ef97-c172c6b92d4e"
   },
   "outputs": [
    {
     "name": "stdout",
     "output_type": "stream",
     "text": [
      "+-------------+----------------+\n",
      "|    work_type|count(work_type)|\n",
      "+-------------+----------------+\n",
      "| Never_worked|              22|\n",
      "|     Govt_job|             657|\n",
      "|     children|             687|\n",
      "|Self-employed|             819|\n",
      "|      Private|            2925|\n",
      "+-------------+----------------+\n",
      "\n"
     ]
    }
   ],
   "source": [
    "from pyspark.sql.functions import asc\n",
    "\n",
    "#contando as classes\n",
    "dataset_desafio.groupBy(\"work_type\").agg({'work_type': 'count'}).sort(asc(\"count(work_type)\")).show()"
   ]
  },
  {
   "cell_type": "code",
   "execution_count": 24,
   "metadata": {
    "id": "Lg38HQJFheRg",
    "outputId": "8cec2dbd-d70c-4268-d913-946ea905cba6"
   },
   "outputs": [
    {
     "name": "stdout",
     "output_type": "stream",
     "text": [
      "+-------+------------------+------------------+------------------+\n",
      "|summary|age               |avg_glucose_level |bmi               |\n",
      "+-------+------------------+------------------+------------------+\n",
      "|count  |5110              |5110              |5110              |\n",
      "|mean   |43.226614481409015|106.14767710371804|28.893236911794673|\n",
      "|stddev |22.61264672311348 |45.28356015058193 |7.85406672968016  |\n",
      "|min    |0.08              |55.12             |10.3              |\n",
      "|max    |82.0              |271.74            |N/A               |\n",
      "+-------+------------------+------------------+------------------+\n",
      "\n"
     ]
    }
   ],
   "source": [
    "entradas_numericas= ['age',\"avg_glucose_level\", \"bmi\"]\n",
    "dataset_desafio.describe(entradas_numericas).show(truncate=False)"
   ]
  },
  {
   "cell_type": "markdown",
   "metadata": {
    "id": "BwHNY2qIheRi"
   },
   "source": [
    "### Qual é a média das idades dos participantes da pesquisa?"
   ]
  },
  {
   "cell_type": "code",
   "execution_count": 31,
   "metadata": {
    "id": "prB6SB77heRj",
    "outputId": "f25766d4-b438-4249-9961-7a2ccb75e28a"
   },
   "outputs": [
    {
     "data": {
      "image/png": "[encoded data removed]",
      "text/plain": [
       "<Figure size 640x480 with 1 Axes>"
      ]
     },
     "metadata": {},
     "output_type": "display_data"
    }
   ],
   "source": [
    "import matplotlib.pyplot as plt\n",
    "\n",
    "# Converte a coluna avg_glucose_level em um objeto pandas\n",
    "converter_avg_glucose_level = dataset_desafio.select('avg_glucose_level').toPandas()['avg_glucose_level']\n",
    "\n",
    "#boxplot\n",
    "plt.boxplot(converter_avg_glucose_level)\n",
    "plt.show()"
   ]
  },
  {
   "cell_type": "markdown",
   "metadata": {
    "id": "SYbEShBRheRk"
   },
   "source": [
    "#### Pelo gráfico anterior, qual é o valor da mediana?"
   ]
  },
  {
   "cell_type": "markdown",
   "metadata": {
    "id": "ygws2gxRheRp"
   },
   "source": [
    "#### Pelo gráfico anterior, o que podemos dizer sobre a existência ou não de outliers?"
   ]
  },
  {
   "cell_type": "code",
   "execution_count": 32,
   "metadata": {
    "id": "nO51gFpWheRr",
    "outputId": "9104983e-4f08-4f47-b559-964d38b94427"
   },
   "outputs": [
    {
     "data": {
      "image/png": "[encoded data removed]",
      "text/plain": [
       "<Figure size 640x480 with 1 Axes>"
      ]
     },
     "metadata": {},
     "output_type": "display_data"
    }
   ],
   "source": [
    "# Converte a coluna avg_glucose_level em um objeto pandas\n",
    "converter_age = dataset_desafio.select('age').toPandas()['age']\n",
    "\n",
    "#boxplot\n",
    "plt.boxplot(converter_age)\n",
    "plt.show()"
   ]
  },
  {
   "cell_type": "markdown",
   "metadata": {
    "id": "nhJ8JoskheRs"
   },
   "source": [
    "#### Pelo gráfico anterior, qual é o valor do primeiro quartil?"
   ]
  },
  {
   "cell_type": "markdown",
   "metadata": {
    "id": "vKEx4GlWheRt"
   },
   "source": [
    "#### Pelo gráfico anterior, o que podemos dizer sobre os outliers?"
   ]
  },
  {
   "cell_type": "markdown",
   "metadata": {
    "id": "sCOY5DtMheRt"
   },
   "source": [
    "## 3) Pré-processamento dos dados"
   ]
  },
  {
   "cell_type": "code",
   "execution_count": 33,
   "metadata": {
    "id": "GlzN88q-heRz",
    "outputId": "c46bbec1-81bf-4d52-9532-5d50f8489c44"
   },
   "outputs": [
    {
     "name": "stdout",
     "output_type": "stream",
     "text": [
      "+--------------+---------------------+\n",
      "|Residence_type|count(Residence_type)|\n",
      "+--------------+---------------------+\n",
      "|         Rural|                 2514|\n",
      "|         Urban|                 2596|\n",
      "+--------------+---------------------+\n",
      "\n"
     ]
    }
   ],
   "source": [
    "#contando a quantidade de valores desconhecidos\n",
    "from pyspark.sql.functions import *\n",
    "dataset_desafio.groupby('Residence_type').agg({'Residence_type': 'count'}).sort(asc(\"count(Residence_type)\")).show()"
   ]
  },
  {
   "cell_type": "markdown",
   "metadata": {
    "id": "VE07zVMdheR1"
   },
   "source": [
    "#### Quantas classes diferentes de trabalho (work_type) existem no dataset? Fiquem atentos, pois não é essa informação que o tabela anterior está exibindo."
   ]
  },
  {
   "cell_type": "code",
   "execution_count": 34,
   "metadata": {
    "id": "YYOf_kz6heR6",
    "outputId": "be386d29-56a3-46f5-dea9-8d95e9979fb5"
   },
   "outputs": [],
   "source": [
    "from pyspark.sql.functions import mean\n",
    "mean = dataset_desafio.select(mean(dataset_desafio['bmi'])).collect()\n",
    "mean_bmi = mean[0][0]\n",
    "dataset_desafio = dataset_desafio.na.fill(mean_bmi,['bmi'])"
   ]
  },
  {
   "cell_type": "code",
   "execution_count": 35,
   "metadata": {
    "id": "tvG9GsY2heR8",
    "outputId": "359c9bf7-b56e-4492-8c4b-038776de7092"
   },
   "outputs": [],
   "source": [
    "#aplicando o filtro para as colunas que possuem valores não conhecidos\n",
    "dataset_filtrado=dataset_desafio.filter((dataset_desafio['bmi'] != 'N/A') & (dataset_desafio['smoking_status'] > 'Unknown'))"
   ]
  },
  {
   "cell_type": "code",
   "execution_count": 36,
   "metadata": {
    "id": "nZF91qLqheR9",
    "outputId": "6a5c7e5e-7e5c-4ca1-cf95-3ae88767b350"
   },
   "outputs": [],
   "source": [
    "# aplicando a transformação dos dados categóricos\n",
    "from pyspark.ml.feature import VectorAssembler,OneHotEncoder, StringIndexer"
   ]
  },
  {
   "cell_type": "code",
   "execution_count": 37,
   "metadata": {
    "id": "AN89pbZKheR9",
    "outputId": "3bd644f5-7938-400a-a403-3997fe68a42b"
   },
   "outputs": [],
   "source": [
    "#define a transformação para a variável \"gender\"\n",
    "stringIndexer_gender=StringIndexer(inputCol=\"gender\", outputCol=\"gender_encoded\")  #label encoding\n",
    "encoder_gender = OneHotEncoder(dropLast=False, inputCol=\"gender_encoded\", outputCol=\"genderVec\") #one-hot encoding"
   ]
  },
  {
   "cell_type": "code",
   "execution_count": 38,
   "metadata": {
    "id": "VGUo-NeLheR-",
    "outputId": "f378cca7-6027-46df-d0f3-575b62a8c193"
   },
   "outputs": [],
   "source": [
    "#define a transformação para a variável \"ever_married\"\n",
    "stringIndexer_married=StringIndexer(inputCol=\"ever_married\", outputCol=\"ever_married_encoded\") #label encoding\n",
    "encoder_married = OneHotEncoder(dropLast=False, inputCol=\"ever_married_encoded\", outputCol=\"marriedVec\") #one-hot encoding"
   ]
  },
  {
   "cell_type": "code",
   "execution_count": 39,
   "metadata": {
    "id": "xctsLvQcheR_",
    "outputId": "a3b5f75c-b1f8-414d-dbe3-26b334bfbe53"
   },
   "outputs": [],
   "source": [
    "#define a transformação para a variável \"work_type\"\n",
    "stringIndexer_work=StringIndexer(inputCol=\"work_type\", outputCol=\"work_type_encoded\")  #label encoding\n",
    "encoder_work = OneHotEncoder(dropLast=False, inputCol=\"work_type_encoded\", outputCol=\"workVec\") #one-hot encoding"
   ]
  },
  {
   "cell_type": "code",
   "execution_count": 40,
   "metadata": {
    "id": "sWDiqsmSheR_",
    "outputId": "ca21bb85-b8f8-4280-a7bf-4e36ea28e151"
   },
   "outputs": [],
   "source": [
    "#define a transformação para a variável \"Residence_type\"\n",
    "stringIndexer_residence=StringIndexer(inputCol=\"Residence_type\", outputCol=\"Residence_type_encoded\")  #label encoding\n",
    "encoder_residence = OneHotEncoder(dropLast=False, inputCol=\"Residence_type_encoded\", outputCol=\"residenceVec\") #one-hot encoding"
   ]
  },
  {
   "cell_type": "code",
   "execution_count": 41,
   "metadata": {
    "id": "VFik0mGFheR_",
    "outputId": "66a6ff1b-5714-4294-c69d-4e93da666c7a"
   },
   "outputs": [],
   "source": [
    "#define a transformação para a variável \"smoking_status\"\n",
    "stringIndexer_smoking=StringIndexer(inputCol=\"smoking_status\", outputCol=\"smoking_status_encoded\")  #define o objeto\n",
    "encoder_smoking = OneHotEncoder(dropLast=False, inputCol=\"smoking_status_encoded\", outputCol=\"smokingVec\")#one-hot encoding"
   ]
  },
  {
   "cell_type": "code",
   "execution_count": 42,
   "metadata": {
    "id": "LBCLqQMEheSA",
    "outputId": "da314631-f012-4a34-a597-45c87fcd1520"
   },
   "outputs": [],
   "source": [
    "#define a construção do vetor de entrada\n",
    "colunas_entrada=['age','hypertension', 'heart_disease','avg_glucose_level','genderVec','marriedVec','workVec','residenceVec','smokingVec']\n",
    "vetor_entrada = VectorAssembler(inputCols=colunas_entrada,outputCol='features')"
   ]
  },
  {
   "cell_type": "code",
   "execution_count": 43,
   "metadata": {
    "id": "xOgVoQvmheSA",
    "outputId": "4953e6e6-f241-4df1-827b-fb2609d8629a"
   },
   "outputs": [],
   "source": [
    "#define a sequencia de transformações para o pipeline\n",
    "sequencia_transformacoes=[stringIndexer_gender,stringIndexer_married,stringIndexer_work,stringIndexer_residence,stringIndexer_smoking,encoder_gender,encoder_married,encoder_work,encoder_residence,encoder_smoking,vetor_entrada]"
   ]
  },
  {
   "cell_type": "code",
   "execution_count": 44,
   "metadata": {
    "id": "T3EKdELKheSB",
    "outputId": "9f6160ad-a327-44be-d933-fdf77de418e3"
   },
   "outputs": [],
   "source": [
    "from pyspark.ml import Pipeline\n",
    "# Aplicando o pipeline\n",
    "pipeline = Pipeline(stages=sequencia_transformacoes)\n",
    "pipelineModel = pipeline.fit(dataset_filtrado)\n",
    "model = pipelineModel.transform(dataset_filtrado)"
   ]
  },
  {
   "cell_type": "code",
   "execution_count": 45,
   "metadata": {
    "id": "a_z9qFnKheSB",
    "outputId": "de854c45-2d3e-4f9e-d534-8b600007dd3e"
   },
   "outputs": [
    {
     "name": "stdout",
     "output_type": "stream",
     "text": [
      "+----+------+-------------+------------+-------------+--------------------+\n",
      "| age|gender|    genderVec|ever_married|   marriedVec|            features|\n",
      "+----+------+-------------+------------+-------------+--------------------+\n",
      "|67.0|  Male|(3,[1],[1.0])|         Yes|(2,[0],[1.0])|(19,[0,2,3,5,7,9,...|\n",
      "|80.0|  Male|(3,[1],[1.0])|         Yes|(2,[0],[1.0])|(19,[0,2,3,5,7,9,...|\n",
      "|49.0|Female|(3,[0],[1.0])|         Yes|(2,[0],[1.0])|(19,[0,3,4,7,9,14...|\n",
      "|79.0|Female|(3,[0],[1.0])|         Yes|(2,[0],[1.0])|(19,[0,1,3,4,7,10...|\n",
      "|81.0|  Male|(3,[1],[1.0])|         Yes|(2,[0],[1.0])|(19,[0,3,5,7,9,14...|\n",
      "|74.0|  Male|(3,[1],[1.0])|         Yes|(2,[0],[1.0])|(19,[0,1,2,3,5,7,...|\n",
      "|69.0|Female|(3,[0],[1.0])|          No|(2,[1],[1.0])|(19,[0,3,4,8,9,14...|\n",
      "|81.0|Female|(3,[0],[1.0])|         Yes|(2,[0],[1.0])|(19,[0,1,3,4,7,9,...|\n",
      "|61.0|Female|(3,[0],[1.0])|         Yes|(2,[0],[1.0])|(19,[0,2,3,4,7,11...|\n",
      "|54.0|Female|(3,[0],[1.0])|         Yes|(2,[0],[1.0])|(19,[0,3,4,7,9,14...|\n",
      "|79.0|Female|(3,[0],[1.0])|         Yes|(2,[0],[1.0])|(19,[0,2,3,4,7,9,...|\n",
      "|50.0|Female|(3,[0],[1.0])|         Yes|(2,[0],[1.0])|(19,[0,1,3,4,7,10...|\n",
      "|64.0|  Male|(3,[1],[1.0])|         Yes|(2,[0],[1.0])|(19,[0,2,3,5,7,9,...|\n",
      "|75.0|  Male|(3,[1],[1.0])|         Yes|(2,[0],[1.0])|(19,[0,1,3,5,7,9,...|\n",
      "|60.0|Female|(3,[0],[1.0])|          No|(2,[1],[1.0])|(19,[0,3,4,8,9,14...|\n",
      "|71.0|Female|(3,[0],[1.0])|         Yes|(2,[0],[1.0])|(19,[0,3,4,7,11,1...|\n",
      "|52.0|Female|(3,[0],[1.0])|         Yes|(2,[0],[1.0])|(19,[0,1,3,4,7,10...|\n",
      "|79.0|Female|(3,[0],[1.0])|         Yes|(2,[0],[1.0])|(19,[0,3,4,7,10,1...|\n",
      "|71.0|  Male|(3,[1],[1.0])|         Yes|(2,[0],[1.0])|(19,[0,3,5,7,9,14...|\n",
      "|80.0|  Male|(3,[1],[1.0])|         Yes|(2,[0],[1.0])|(19,[0,3,5,7,10,1...|\n",
      "+----+------+-------------+------------+-------------+--------------------+\n",
      "only showing top 20 rows\n",
      "\n"
     ]
    }
   ],
   "source": [
    "#mostrando parte dos dados para entrada\n",
    "model.select('age','gender','genderVec','ever_married','marriedVec','features').show()"
   ]
  },
  {
   "cell_type": "code",
   "execution_count": 46,
   "metadata": {
    "id": "jJZCe6OnheSC",
    "outputId": "f91bcaa8-386b-411e-840a-c9718670501d"
   },
   "outputs": [],
   "source": [
    "#dividindo o dataset entre teste e treinamento\n",
    "train_data, test_data = model.randomSplit([.8,.2],seed=1)"
   ]
  },
  {
   "cell_type": "markdown",
   "metadata": {
    "id": "MS3NBIApheSC"
   },
   "source": [
    "#### Qual foi, respectivamente, o percentual de dados escolhidos para treinamento e teste dos modelos?"
   ]
  },
  {
   "cell_type": "code",
   "execution_count": 47,
   "metadata": {
    "id": "Nm30qhG1heSD",
    "outputId": "d070e71f-e949-43fd-ef12-ac38d2db299b"
   },
   "outputs": [
    {
     "data": {
      "text/plain": [
       "['id',\n",
       " 'gender',\n",
       " 'age',\n",
       " 'hypertension',\n",
       " 'heart_disease',\n",
       " 'ever_married',\n",
       " 'work_type',\n",
       " 'Residence_type',\n",
       " 'avg_glucose_level',\n",
       " 'bmi',\n",
       " 'smoking_status',\n",
       " 'stroke',\n",
       " 'gender_encoded',\n",
       " 'ever_married_encoded',\n",
       " 'work_type_encoded',\n",
       " 'Residence_type_encoded',\n",
       " 'smoking_status_encoded',\n",
       " 'genderVec',\n",
       " 'marriedVec',\n",
       " 'workVec',\n",
       " 'residenceVec',\n",
       " 'smokingVec',\n",
       " 'features']"
      ]
     },
     "execution_count": 47,
     "metadata": {},
     "output_type": "execute_result"
    }
   ],
   "source": [
    "#mostrando os dados de treinamento\n",
    "train_data.columns"
   ]
  },
  {
   "cell_type": "markdown",
   "metadata": {
    "id": "xbF14_2wheSD"
   },
   "source": [
    "### Realizando a previsão através da Regressão Logística"
   ]
  },
  {
   "cell_type": "code",
   "execution_count": 48,
   "metadata": {
    "id": "N-0xIjTFheSE",
    "outputId": "da6628d6-6987-4d74-c08a-a5b689172971"
   },
   "outputs": [],
   "source": [
    "#define o modelo de regrssão logística\n",
    "from pyspark.ml.classification import LogisticRegression\n",
    "\n",
    "#instancia o objeto para a regressão logística\n",
    "lr = LogisticRegression(labelCol=\"stroke\",featuresCol=\"features\", maxIter=100, regParam=0.3, )\n",
    "\n",
    "# treina o modelo\n",
    "linearModel = lr.fit(train_data)"
   ]
  },
  {
   "cell_type": "code",
   "execution_count": 49,
   "metadata": {
    "id": "Oot9_z8fheSE",
    "outputId": "95350347-e146-447f-daf7-85c4a2a402f1"
   },
   "outputs": [],
   "source": [
    "#realiza a previsão utilizando o modelo de regressão logística\n",
    "previsao_regressao = linearModel.transform(test_data)"
   ]
  },
  {
   "cell_type": "code",
   "execution_count": 51,
   "metadata": {
    "id": "ltA72-7WheSF",
    "outputId": "de47b802-d195-4d67-ec16-409802fc1275"
   },
   "outputs": [
    {
     "name": "stdout",
     "output_type": "stream",
     "text": [
      "Regressão Logística: 94.31%\n"
     ]
    }
   ],
   "source": [
    "from pyspark.ml.evaluation import MulticlassClassificationEvaluator\n",
    "\n",
    "#avaliando a classificação realizada pela regressão logística\n",
    "acc_evaluator = MulticlassClassificationEvaluator(labelCol=\"stroke\", predictionCol=\"prediction\", metricName=\"accuracy\")\n",
    "acuracia_regressao = acc_evaluator.evaluate(previsao_regressao)\n",
    "print('Regressão Logística: {0:2.2f}%'.format(acuracia_regressao*100))"
   ]
  },
  {
   "cell_type": "code",
   "execution_count": null,
   "metadata": {},
   "outputs": [],
   "source": []
  }
 ],
 "metadata": {
  "colab": {
   "name": "desafio_CID.ipynb",
   "provenance": []
  },
  "kernelspec": {
   "display_name": "Python 3 (ipykernel)",
   "language": "python",
   "name": "python3"
  },
  "language_info": {
   "codemirror_mode": {
    "name": "ipython",
    "version": 3
   },
   "file_extension": ".py",
   "mimetype": "text/x-python",
   "name": "python",
   "nbconvert_exporter": "python",
   "pygments_lexer": "ipython3",
   "version": "3.9.13"
  },
  "name": "desafio_CID",
  "notebookId": 3310322013978407
 },
 "nbformat": 4,
 "nbformat_minor": 4
}
